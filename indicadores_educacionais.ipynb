{
 "cells": [
  {
   "cell_type": "markdown",
   "id": "central-junction",
   "metadata": {},
   "source": [
    "# Analisando dados da educação 2019\n"
   ]
  },
  {
   "cell_type": "code",
   "execution_count": 3,
   "id": "micro-bicycle",
   "metadata": {},
   "outputs": [],
   "source": [
    "#https://www.gov.br/inep/pt-br/acesso-a-informacao/dados-abertos/indicadores-educacionais\n",
    "\n",
    "import pandas\n",
    "import numpy\n",
    "import openpyxl"
   ]
  },
  {
   "cell_type": "code",
   "execution_count": 11,
   "id": "placed-height",
   "metadata": {},
   "outputs": [
    {
     "name": "stderr",
     "output_type": "stream",
     "text": [
      "/home/digesto/.local/lib/python3.9/site-packages/IPython/core/interactiveshell.py:3165: DtypeWarning: Columns (0) have mixed types.Specify dtype option on import or set low_memory=False.\n",
      "  has_raised = await self.run_ast_nodes(code_ast.body, cell_name,\n"
     ]
    }
   ],
   "source": [
    "AFD_df = pandas.read_csv('./data/AFD_ESCOLAS_2019.csv', sep=';', header=10)\n",
    "DSU_df = pandas.read_csv('./data/DSU_ESCOLAS_2019.csv', sep=';', header=9)\n",
    "TDI_df = pandas.read_csv('./data/TDI_ESCOLAS_2019.csv', sep=';', header=8)"
   ]
  },
  {
   "cell_type": "markdown",
   "id": "jewish-fourth",
   "metadata": {},
   "source": [
    "Corrigindo os data types"
   ]
  },
  {
   "cell_type": "code",
   "execution_count": 20,
   "id": "cosmetic-vocabulary",
   "metadata": {},
   "outputs": [],
   "source": [
    "def correct_data_types(df):\n",
    "    for column in df.loc[:, df.dtypes == object].columns:\n",
    "        df.loc[df[column] == \n",
    "                   '--', column] = numpy.NaN\n",
    "        if all(df[column].fillna('0').str.replace(',', '').replace('.','').str.isdigit()):\n",
    "            df[column] = pandas.to_numeric(df[column].str.replace(',','.'))\n",
    "    return df\n",
    "            \n",
    "dfs = [AFD_df, DSU_df, TDI_df]\n",
    "\n",
    "for df in dfs:\n",
    "    correct_data_types(df)                                                 "
   ]
  },
  {
   "cell_type": "code",
   "execution_count": 15,
   "id": "sticky-snapshot",
   "metadata": {},
   "outputs": [],
   "source": [
    "# removendo últimas colunas\n",
    "AFD_df.drop(AFD_df.tail(5).index,inplace=True)\n",
    "DSU_df.drop(DSU_df.tail(2).index, inplace=True)\n",
    "TDI_df.drop(TDI_df.tail(2).index, inplace=True)"
   ]
  },
  {
   "cell_type": "code",
   "execution_count": 24,
   "id": "collaborative-casting",
   "metadata": {},
   "outputs": [],
   "source": [
    "# depois de corrigidos os tipos e excluídas as linhas irrelevantes, salvando na zona standard\n",
    "AFD_df.to_parquet('./data/standard/afd.parquet')\n",
    "DSU_df.to_parquet('./data/standard/dsu.parquet')\n",
    "TDI_df.to_parquet('./data/standard/tdi.parquet')"
   ]
  },
  {
   "cell_type": "code",
   "execution_count": 25,
   "id": "medieval-vertical",
   "metadata": {},
   "outputs": [],
   "source": [
    "df_afd = pandas.read_parquet('./data/standard/afd.parquet')"
   ]
  },
  {
   "cell_type": "code",
   "execution_count": 27,
   "id": "caroline-fifty",
   "metadata": {},
   "outputs": [
    {
     "data": {
      "text/plain": [
       "NU_ANO_CENSO        int64\n",
       "NO_REGIAO          object\n",
       "SG_UF              object\n",
       "CO_MUNICIPIO      float64\n",
       "NO_MUNICIPIO       object\n",
       "CO_ENTIDADE       float64\n",
       "NO_ENTIDADE        object\n",
       "NO_CATEGORIA       object\n",
       "NO_DEPENDENCIA     object\n",
       "ED_INF_CAT_1      float64\n",
       "ED_INF_CAT_2      float64\n",
       "ED_INF_CAT_3      float64\n",
       "ED_INF_CAT_4      float64\n",
       "ED_INF_CAT_5      float64\n",
       "FUN_CAT_1         float64\n",
       "FUN_CAT_2         float64\n",
       "FUN_CAT_3         float64\n",
       "FUN_CAT_4         float64\n",
       "FUN_CAT_5         float64\n",
       "FUN_AI_CAT_1      float64\n",
       "FUN_AI_CAT_2      float64\n",
       "FUN_AI_CAT_3      float64\n",
       "FUN_AI_CAT_4      float64\n",
       "FUN_AI_CAT_5      float64\n",
       "FUN_AF_CAT_1      float64\n",
       "FUN_AF_CAT_2      float64\n",
       "FUN_AF_CAT_3      float64\n",
       "FUN_AF_CAT_4      float64\n",
       "FUN_AF_CAT_5      float64\n",
       "MED_CAT_1         float64\n",
       "MED_CAT_2         float64\n",
       "MED_CAT_3         float64\n",
       "MED_CAT_4         float64\n",
       "MED_CAT_5         float64\n",
       "EJA_FUN_CAT_1     float64\n",
       "EJA_FUN_CAT_2     float64\n",
       "EJA_FUN_CAT_3     float64\n",
       "EJA_FUN_CAT_4     float64\n",
       "EJA_FUN_CAT_5     float64\n",
       "EJA_MED_CAT_1     float64\n",
       "EJA_MED_CAT_2     float64\n",
       "EJA_MED_CAT_3     float64\n",
       "EJA_MED_CAT_4     float64\n",
       "EJA_MED_CAT_5     float64\n",
       "dtype: object"
      ]
     },
     "execution_count": 27,
     "metadata": {},
     "output_type": "execute_result"
    }
   ],
   "source": [
    "# checando se os tipos permanecem corrigidos\n",
    "df_afd.dtypes"
   ]
  }
 ],
 "metadata": {
  "kernelspec": {
   "display_name": "Python 3",
   "language": "python",
   "name": "python3"
  },
  "language_info": {
   "codemirror_mode": {
    "name": "ipython",
    "version": 3
   },
   "file_extension": ".py",
   "mimetype": "text/x-python",
   "name": "python",
   "nbconvert_exporter": "python",
   "pygments_lexer": "ipython3",
   "version": "3.9.5"
  }
 },
 "nbformat": 4,
 "nbformat_minor": 5
}
